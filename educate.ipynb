{
 "metadata": {
  "language_info": {
   "codemirror_mode": {
    "name": "ipython",
    "version": 3
   },
   "file_extension": ".py",
   "mimetype": "text/x-python",
   "name": "python",
   "nbconvert_exporter": "python",
   "pygments_lexer": "ipython3",
   "version": "3.7.3-final"
  },
  "orig_nbformat": 2,
  "kernelspec": {
   "name": "python3",
   "display_name": "Python 3",
   "language": "python"
  }
 },
 "nbformat": 4,
 "nbformat_minor": 2,
 "cells": [
  {
   "cell_type": "code",
   "execution_count": 1,
   "metadata": {},
   "outputs": [
    {
     "output_type": "stream",
     "name": "stdout",
     "text": [
      "[(1, 3), (1, 4), (2, 3), (2, 1), (2, 4), (3, 1), (3, 4)]\n"
     ]
    }
   ],
   "source": [
    "x = [1,2,3]\n",
    "y = [3,1,4]\n",
    "ans = [(a,b) for a in x for b in y if a!=b]\n",
    "print(ans)"
   ]
  },
  {
   "cell_type": "code",
   "execution_count": 2,
   "metadata": {},
   "outputs": [
    {
     "output_type": "stream",
     "name": "stdout",
     "text": [
      "['#这五年中国更美丽#', '#十九届五中全会#']\n['这五年中国更美丽', '十九届五中全会']\n"
     ]
    }
   ],
   "source": [
    "import re\n",
    "weibo = '十三五，绿色；十四五，创新，#这五年中国更美丽##十九届五中全会#'\n",
    "ans_0 = re.findall(r'#[^#]*#',weibo)\n",
    "ans = re.findall(r'#([^#]*)#',weibo)\n",
    "print(ans_0,ans,sep = '\\n')"
   ]
  },
  {
   "cell_type": "code",
   "execution_count": 1,
   "metadata": {},
   "outputs": [
    {
     "output_type": "stream",
     "name": "stdout",
     "text": [
      "[1, 2, 3, 4, 5]\n[4, 5, 3, 6, 2, 7, 1, 8]\n"
     ]
    }
   ],
   "source": [
    "jishu = [4,2,1,3,5]\n",
    "oushu = [5,3,1,2,4,6]\n",
    "oushu =range(1,9)\n",
    "def work(list_):\n",
    "    len_ = len(list_)\n",
    "    ans = []\n",
    "    if(len_%2==0):\n",
    "        for i in range(len_//2):\n",
    "            ans.append(list_[len_//2-i-1])\n",
    "            ans.append(list_[len_//2+i])\n",
    "    else:\n",
    "        ans.append(list_[len_//2])\n",
    "        for i in range(len_//2):\n",
    "            ans.append(list_[len_//2-i-1])\n",
    "            ans.append(list_[len_//2+i+1])\n",
    "    print(ans)\n",
    "\n",
    "work(jishu)\n",
    "work(oushu)\n"
   ]
  },
  {
   "cell_type": "code",
   "execution_count": 4,
   "metadata": {},
   "outputs": [
    {
     "output_type": "stream",
     "name": "stdout",
     "text": [
      "123 124 132 134 142 143 213 214 231 234 241 243 312 314 321 324 341 342 412 413 421 423 431 432 "
     ]
    }
   ],
   "source": [
    "shu = [1,2,3,4]\n",
    "for a in range(4):\n",
    "    for b in range(4):\n",
    "        for c in range(4):\n",
    "            if a!=b and a!=c and b!=c:\n",
    "                print(shu[a]*100+shu[b]*10+shu[c],end = ' ')"
   ]
  },
  {
   "cell_type": "code",
   "execution_count": 12,
   "metadata": {},
   "outputs": [
    {
     "output_type": "stream",
     "name": "stdout",
     "text": [
      "3\n[1]\n"
     ]
    }
   ],
   "source": [
    "list1 = [0,1,2,4,5,52,13,24,6,67,1,134,54,6,77,7,1]\n",
    "m = 0\n",
    "\n",
    "for a in list1:\n",
    "    m=max(m,list1.count(a))\n",
    "\n",
    "print(m)\n",
    "l = []\n",
    "for a in list1:\n",
    "    if list1.count(a)==m and a not in l:\n",
    "        l.append(a)\n",
    "print(l)\n"
   ]
  },
  {
   "source": [
    "#  呜呜呜终于做了五题\n"
   ],
   "cell_type": "markdown",
   "metadata": {}
  },
  {
   "cell_type": "code",
   "execution_count": 14,
   "metadata": {},
   "outputs": [
    {
     "output_type": "stream",
     "name": "stdout",
     "text": [
      "8\nrange(0, 8)\n[]\n['a']\n['a', 'b']\n['a', 'b', 'c']\n3 abc\n"
     ]
    }
   ],
   "source": [
    "s = 'abcabcbb'\n",
    "a = []\n",
    "print(len(s))\n",
    "print(range(len(s)))\n",
    "for i in range(len(s)):\n",
    "    print(a)\n",
    "    if s[i] in a:\n",
    "        print(i,s[0:i])\n",
    "        break\n",
    "    a.append(s[i])\n",
    "\n"
   ]
  },
  {
   "cell_type": "code",
   "execution_count": 30,
   "metadata": {},
   "outputs": [
    {
     "output_type": "stream",
     "name": "stdout",
     "text": [
      "['to', 'be', 'or', 'not', 'to', 'be', 'or', 'or', 'or']\nto*be*or*not*to*be*or*or*or*{'to': 2, 'be': 2, 'or': 4, 'not': 1}\ndict_items([('to', 2), ('be', 2), ('or', 4), ('not', 1)])\n('to', 2)\n"
     ]
    },
    {
     "output_type": "error",
     "ename": "IndexError",
     "evalue": "tuple index out of range",
     "traceback": [
      "\u001b[1;31m---------------------------------------------------------------------------\u001b[0m",
      "\u001b[1;31mIndexError\u001b[0m                                Traceback (most recent call last)",
      "\u001b[1;32m<ipython-input-30-3e6bab4c16a9>\u001b[0m in \u001b[0;36m<module>\u001b[1;34m\u001b[0m\n\u001b[0;32m     12\u001b[0m     \u001b[1;32mreturn\u001b[0m \u001b[0mtup\u001b[0m\u001b[1;33m[\u001b[0m\u001b[1;36m2\u001b[0m\u001b[1;33m]\u001b[0m\u001b[1;33m\u001b[0m\u001b[1;33m\u001b[0m\u001b[0m\n\u001b[0;32m     13\u001b[0m \u001b[0mprint\u001b[0m\u001b[1;33m(\u001b[0m\u001b[0mans\u001b[0m\u001b[1;33m.\u001b[0m\u001b[0mitems\u001b[0m\u001b[1;33m(\u001b[0m\u001b[1;33m)\u001b[0m\u001b[1;33m)\u001b[0m\u001b[1;33m\u001b[0m\u001b[1;33m\u001b[0m\u001b[0m\n\u001b[1;32m---> 14\u001b[1;33m \u001b[0mans\u001b[0m \u001b[1;33m=\u001b[0m \u001b[0msorted\u001b[0m\u001b[1;33m(\u001b[0m\u001b[0mans\u001b[0m\u001b[1;33m.\u001b[0m\u001b[0mitems\u001b[0m\u001b[1;33m(\u001b[0m\u001b[1;33m)\u001b[0m\u001b[1;33m,\u001b[0m\u001b[0mkey\u001b[0m \u001b[1;33m=\u001b[0m\u001b[0mhs\u001b[0m \u001b[1;33m,\u001b[0m\u001b[0mreverse\u001b[0m \u001b[1;33m=\u001b[0m \u001b[1;32mTrue\u001b[0m\u001b[1;33m)\u001b[0m\u001b[1;33m\u001b[0m\u001b[1;33m\u001b[0m\u001b[0m\n\u001b[0m\u001b[0;32m     15\u001b[0m \u001b[1;33m\u001b[0m\u001b[0m\n\u001b[0;32m     16\u001b[0m \u001b[1;32mfor\u001b[0m \u001b[0mkey\u001b[0m\u001b[1;33m,\u001b[0m\u001b[0mvalue\u001b[0m \u001b[1;32min\u001b[0m \u001b[0mans\u001b[0m\u001b[1;33m:\u001b[0m\u001b[1;33m\u001b[0m\u001b[1;33m\u001b[0m\u001b[0m\n",
      "\u001b[1;32m<ipython-input-30-3e6bab4c16a9>\u001b[0m in \u001b[0;36mhs\u001b[1;34m(tup)\u001b[0m\n\u001b[0;32m     10\u001b[0m \u001b[1;32mdef\u001b[0m \u001b[0mhs\u001b[0m\u001b[1;33m(\u001b[0m\u001b[0mtup\u001b[0m\u001b[1;33m)\u001b[0m\u001b[1;33m:\u001b[0m\u001b[1;33m\u001b[0m\u001b[1;33m\u001b[0m\u001b[0m\n\u001b[0;32m     11\u001b[0m     \u001b[0mprint\u001b[0m\u001b[1;33m(\u001b[0m\u001b[0mtup\u001b[0m\u001b[1;33m)\u001b[0m\u001b[1;33m\u001b[0m\u001b[1;33m\u001b[0m\u001b[0m\n\u001b[1;32m---> 12\u001b[1;33m     \u001b[1;32mreturn\u001b[0m \u001b[0mtup\u001b[0m\u001b[1;33m[\u001b[0m\u001b[1;36m2\u001b[0m\u001b[1;33m]\u001b[0m\u001b[1;33m\u001b[0m\u001b[1;33m\u001b[0m\u001b[0m\n\u001b[0m\u001b[0;32m     13\u001b[0m \u001b[0mprint\u001b[0m\u001b[1;33m(\u001b[0m\u001b[0mans\u001b[0m\u001b[1;33m.\u001b[0m\u001b[0mitems\u001b[0m\u001b[1;33m(\u001b[0m\u001b[1;33m)\u001b[0m\u001b[1;33m)\u001b[0m\u001b[1;33m\u001b[0m\u001b[1;33m\u001b[0m\u001b[0m\n\u001b[0;32m     14\u001b[0m \u001b[0mans\u001b[0m \u001b[1;33m=\u001b[0m \u001b[0msorted\u001b[0m\u001b[1;33m(\u001b[0m\u001b[0mans\u001b[0m\u001b[1;33m.\u001b[0m\u001b[0mitems\u001b[0m\u001b[1;33m(\u001b[0m\u001b[1;33m)\u001b[0m\u001b[1;33m,\u001b[0m\u001b[0mkey\u001b[0m \u001b[1;33m=\u001b[0m\u001b[0mhs\u001b[0m \u001b[1;33m,\u001b[0m\u001b[0mreverse\u001b[0m \u001b[1;33m=\u001b[0m \u001b[1;32mTrue\u001b[0m\u001b[1;33m)\u001b[0m\u001b[1;33m\u001b[0m\u001b[1;33m\u001b[0m\u001b[0m\n",
      "\u001b[1;31mIndexError\u001b[0m: tuple index out of range"
     ]
    }
   ],
   "source": [
    "s = 'To be or not to be or or or'\n",
    "s = s.lower()\n",
    "l = s.split(' ')\n",
    "print(l)\n",
    "ans = {}\n",
    "for i in l:\n",
    "    print(i,end='*')\n",
    "    ans[i]=l.count(i)\n",
    "print(ans)\n",
    "def hs(tup):\n",
    "    print(tup)\n",
    "    return tup[2]\n",
    "print(ans.items())\n",
    "ans = sorted(ans.items(),key =hs ,reverse = True)\n",
    "\n",
    "for key,value in ans:\n",
    "    print(key,value)"
   ]
  },
  {
   "source": [
    "## 卡号这题太啰嗦了懒得写代码\n",
    "# 耶我又解决了~~四~~三题！"
   ],
   "cell_type": "markdown",
   "metadata": {}
  },
  {
   "source": [
    "## 。。。建议百度。。哪里看不懂惹问我\n"
   ],
   "cell_type": "markdown",
   "metadata": {}
  },
  {
   "cell_type": "code",
   "execution_count": 8,
   "metadata": {},
   "outputs": [
    {
     "output_type": "stream",
     "name": "stdout",
     "text": [
      "153\n",
      "370\n",
      "371\n",
      "407\n"
     ]
    }
   ],
   "source": [
    "for i in range(100,1000):\n",
    "    s1=i//100\n",
    "    s2=(i%100)//10\n",
    "    s3=i%10\n",
    "    if(s1**3+s2**3+s3**3==i):\n",
    "        print(i,sep=' ')"
   ]
  },
  {
   "cell_type": "code",
   "execution_count": 9,
   "metadata": {},
   "outputs": [
    {
     "output_type": "stream",
     "name": "stdout",
     "text": [
      "[[1, 2, 3, 4, 5], [6, 7, 8, 9, 10], [11, 12, 13, 14, 15], [16, 17, 18, 19, 20], [21, 22, 23, 24, 25]]\n",
      "[[1, 6, 11, 16, 21], [2, 7, 12, 17, 22], [3, 8, 13, 18, 23], [4, 9, 14, 19, 24], [5, 10, 15, 20, 25]]\n"
     ]
    }
   ],
   "source": [
    "a = []\n",
    "for i in range(5):\n",
    "    b = []\n",
    "    for j in range(5):\n",
    "        b.append(i*5+j+1)\n",
    "    a.append(b)\n",
    "print(a)\n",
    "ans = []\n",
    "for i in range(5):\n",
    "    b = []\n",
    "    for j in range(5):\n",
    "        b.append(a[j][i])\n",
    "    ans.append(b)\n",
    "print(ans)"
   ]
  },
  {
   "source": [
    "# 耶最后一个啦！"
   ],
   "cell_type": "markdown",
   "metadata": {}
  },
  {
   "cell_type": "code",
   "execution_count": 31,
   "metadata": {},
   "outputs": [
    {
     "output_type": "stream",
     "name": "stdout",
     "text": [
      "gab 2\ngrab 2\namerica 1\numbrella 1\ngrandma 1\ngrandpa 1\n---------------\n[('america', 1), ('umbrella', 1), ('grandma', 1), ('grandpa', 1), ('gab', 2), ('grab', 2)]\namerica 1\numbrella 1\ngrandma 1\ngrandpa 1\ngab 2\ngrab 2\n"
     ]
    }
   ],
   "source": [
    "s = 'America umbrella grandma grandpa gab grab grab gab'\n",
    "s = s.lower()\n",
    "l = s.split(' ')\n",
    "ans = {}\n",
    "for i in l:\n",
    "    ans[i]=l.count(i)\n",
    "\n",
    "ans1 = sorted(ans.items(),key = lambda d:d[1],reverse = True)\n",
    "for key,value in ans1:\n",
    "    print(key,value)\n",
    "print(\"---------------\")\n",
    "ans2 = sorted(ans.items(),key = lambda d:d[0][::-1])\n",
    "print(ans2)\n",
    "for key,value in ans2:\n",
    "    print(key,value)"
   ]
  },
  {
   "source": [
    "<br/>  \n",
    "<br/>  \n",
    "<br/>  \n",
    "\n",
    "\n",
    "\n",
    "\n",
    "\n",
    "\n",
    "\n",
    "\n",
    "\n",
    "\n",
    "\n",
    "\n",
    "# 哇就这！ 做完啦！大家辛苦了"
   ],
   "cell_type": "markdown",
   "metadata": {}
  }
 ]
}